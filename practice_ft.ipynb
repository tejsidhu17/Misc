{
 "cells": [
  {
   "cell_type": "code",
   "execution_count": 4,
   "metadata": {},
   "outputs": [
    {
     "name": "stdout",
     "output_type": "stream",
     "text": [
      "<class 'float'>\n",
      "What is 2.31 + 53.45: \n",
      "7.115440130233765\n",
      "What is 25.63 + 33.71: \n",
      "11.910269975662231\n",
      "What is 99.75 + 62.71: \n",
      "10.44881296157837\n",
      "What is 97.82 + 19.8: \n",
      "20.050719022750854\n",
      "What is 11.48 + 89.57: \n",
      "10.274799823760986\n",
      "What is 70.87 + 89.77: \n",
      "13.023101091384888\n"
     ]
    }
   ],
   "source": [
    "import random\n",
    "import time\n",
    "\n",
    "i = float(1)\n",
    "print(type(i))\n",
    "while(i != 0):\n",
    "    num1 = round(random.uniform(0.0,100.0),2)\n",
    "    num2 = round(random.uniform(0.0,100.0), 2)\n",
    "    count = 0\n",
    "    while(i != round(num1 + num2,4) and i != 0):\n",
    "        print(f\"What is {num1} + {num2}: \")\n",
    "        start_time = time.time()\n",
    "        i = float(input(\"Answer\"))\n",
    "        end_time = time.time() - start_time\n",
    "        print(end_time)\n",
    "        count = count + 1\n",
    "        if(count == 3):\n",
    "            print(f\"Correct Answer: {round(num1 + num2,4)}\")\n",
    "            break\n"
   ]
  }
 ],
 "metadata": {
  "kernelspec": {
   "display_name": "Python 3",
   "language": "python",
   "name": "python3"
  },
  "language_info": {
   "codemirror_mode": {
    "name": "ipython",
    "version": 3
   },
   "file_extension": ".py",
   "mimetype": "text/x-python",
   "name": "python",
   "nbconvert_exporter": "python",
   "pygments_lexer": "ipython3",
   "version": "3.12.0"
  }
 },
 "nbformat": 4,
 "nbformat_minor": 2
}
